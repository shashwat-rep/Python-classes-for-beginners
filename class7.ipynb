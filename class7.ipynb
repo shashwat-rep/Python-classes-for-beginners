{
 "cells": [
  {
   "cell_type": "markdown",
   "id": "8879cf51",
   "metadata": {},
   "source": [
    "Class 7\n",
    "- Calculator and program for grade calculation"
   ]
  },
  {
   "cell_type": "markdown",
   "id": "bab50fa2",
   "metadata": {},
   "source": [
    "Q. Write a program using switch if-elif-else to determine the grade of the student based on his marks acc. to following crition\n",
    "- marks >= 85 (O)\n",
    "- 75 <= marks <= 84 (A+)\n",
    "- 65 <= marks <= 74 (A)\n",
    "- 55 <= marks <= 64 (B+)\n",
    "- 45 <= marks <= 54 (B)\n",
    "- 35 <= marks <= 44 (C+)\n",
    "- marks < 35 (F)"
   ]
  },
  {
   "cell_type": "code",
   "execution_count": 1,
   "id": "50663919",
   "metadata": {},
   "outputs": [
    {
     "name": "stdout",
     "output_type": "stream",
     "text": [
      "O\n"
     ]
    }
   ],
   "source": [
    "m = int(input(\"Enter your marks\"))\n",
    "if m<=100 and m>=85:\n",
    "    print(\"O\")\n",
    "elif m<85 and m>=75:\n",
    "    print(\"A+\")\n",
    "elif m<75 and m>=65:\n",
    "    print(\"A\")\n",
    "elif m<65 and m>=55:\n",
    "    print(\"B+\")\n",
    "elif m<55 and m>=45:\n",
    "    print(\"B\")\n",
    "elif m<45 and m>=35:\n",
    "    print(\"C+\")\n",
    "elif m<35 and m>=0:\n",
    "    print(\"F\")\n",
    "else:\n",
    "    print(\"Invalid input\")"
   ]
  },
  {
   "cell_type": "markdown",
   "id": "2bf0cc4b",
   "metadata": {},
   "source": [
    "Q. Write a program to prompt user for a choice and print the desired calulation as per the choice\n",
    "- 1 = Addition\n",
    "- 2 = Subtraction\n",
    "- 3 = Multiplication\n",
    "- 4 = Division"
   ]
  },
  {
   "cell_type": "code",
   "execution_count": 2,
   "id": "482ac04f",
   "metadata": {},
   "outputs": [
    {
     "name": "stdout",
     "output_type": "stream",
     "text": [
      "The multiplication is 15\n"
     ]
    }
   ],
   "source": [
    "a=int(input(\"Enter the no. 1\"))\n",
    "b=int(input(\"Enter the no. 2\"))\n",
    "n=int(input(\"Enter 1 for addition, 2 for subtraction, 3 for multiplication and 4 for division\"))\n",
    "if n==1:\n",
    "    print(\"The addition is\", a+b)\n",
    "elif n==2:\n",
    "    print(\"The subtraction is\", a-b)\n",
    "elif n==3:\n",
    "    print(\"The multiplication is\", a*b)\n",
    "elif n==4:\n",
    "    print(\"The division is\", a/b)\n",
    "else:\n",
    "    print(\"Invalid input\")"
   ]
  }
 ],
 "metadata": {
  "kernelspec": {
   "display_name": "base",
   "language": "python",
   "name": "python3"
  },
  "language_info": {
   "codemirror_mode": {
    "name": "ipython",
    "version": 3
   },
   "file_extension": ".py",
   "mimetype": "text/x-python",
   "name": "python",
   "nbconvert_exporter": "python",
   "pygments_lexer": "ipython3",
   "version": "3.12.4"
  }
 },
 "nbformat": 4,
 "nbformat_minor": 5
}
