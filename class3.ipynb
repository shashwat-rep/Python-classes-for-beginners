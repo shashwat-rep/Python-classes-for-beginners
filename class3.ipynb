{
 "cells": [
  {
   "cell_type": "markdown",
   "id": "1a873895",
   "metadata": {},
   "source": [
    "Class 3\n",
    "- More questions on I/O"
   ]
  },
  {
   "cell_type": "markdown",
   "id": "66e85a65",
   "metadata": {},
   "source": [
    "Q. Write a program to ask length and breadth of a rectangle from the user and print it's area."
   ]
  },
  {
   "cell_type": "code",
   "execution_count": 2,
   "id": "e16a4834",
   "metadata": {},
   "outputs": [
    {
     "name": "stdout",
     "output_type": "stream",
     "text": [
      "The area of rectangle is 600.0\n"
     ]
    }
   ],
   "source": [
    "length = float(input(\"Enter the length \"))\n",
    "breadth = float(input(\"Enter the breadth \"))\n",
    "area = length * breadth\n",
    "print(\"The area of rectangle is\", area)"
   ]
  },
  {
   "cell_type": "markdown",
   "id": "05fb3edf",
   "metadata": {},
   "source": [
    "Q. Write a program to ask the user's first and last name and make an email for him as\n",
    "\n",
    "eg - Raj Sharma\n",
    "\n",
    "Output - Raj.Sharma@gmail.com"
   ]
  },
  {
   "cell_type": "code",
   "execution_count": 3,
   "id": "77090223",
   "metadata": {},
   "outputs": [
    {
     "name": "stdout",
     "output_type": "stream",
     "text": [
      "Raj.Sharma@gmail.com\n"
     ]
    }
   ],
   "source": [
    "fname = input(\"Enter the first name \")\n",
    "lname = input(\"Enter the second name \")\n",
    "email = fname + \".\" + lname + \"@gmail.com\"\n",
    "print(email)"
   ]
  },
  {
   "cell_type": "markdown",
   "id": "5ac7b0ac",
   "metadata": {},
   "source": [
    "Q. Write a program to ask radius of a circle from the user and print it's area."
   ]
  },
  {
   "cell_type": "code",
   "execution_count": 4,
   "id": "5cf47e57",
   "metadata": {},
   "outputs": [
    {
     "name": "stdout",
     "output_type": "stream",
     "text": [
      "The area is  28.259999999999998\n"
     ]
    }
   ],
   "source": [
    "radius = float(input(\"Enter the radius \"))\n",
    "area = 3.14 * radius * radius\n",
    "print(\"The area is \", area)"
   ]
  },
  {
   "cell_type": "markdown",
   "id": "3e824f2e",
   "metadata": {},
   "source": [
    "Q. Write a program to enter his name and his favourite superhero and print it like\n",
    "\n",
    "eg - Ram Sharma, Spiderman\n",
    "\n",
    "Output - My name is Ram Sharma and my favourite superhero is Spiderman."
   ]
  },
  {
   "cell_type": "code",
   "execution_count": 5,
   "id": "6f65a7dd",
   "metadata": {},
   "outputs": [
    {
     "name": "stdout",
     "output_type": "stream",
     "text": [
      "My name is Ram sharma and my favourite superhero is spiderman\n"
     ]
    }
   ],
   "source": [
    "name = input(\"Enter your name \")\n",
    "sname = input(\"Enter your favourite superhero name \")\n",
    "statement = \"My name is \" + name + \" and my favourite superhero is \" + sname\n",
    "print(statement)"
   ]
  }
 ],
 "metadata": {
  "kernelspec": {
   "display_name": "base",
   "language": "python",
   "name": "python3"
  },
  "language_info": {
   "codemirror_mode": {
    "name": "ipython",
    "version": 3
   },
   "file_extension": ".py",
   "mimetype": "text/x-python",
   "name": "python",
   "nbconvert_exporter": "python",
   "pygments_lexer": "ipython3",
   "version": "3.12.4"
  }
 },
 "nbformat": 4,
 "nbformat_minor": 5
}
