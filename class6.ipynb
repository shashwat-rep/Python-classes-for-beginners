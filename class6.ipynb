{
 "cells": [
  {
   "cell_type": "markdown",
   "id": "27415631",
   "metadata": {},
   "source": [
    "Class 6\n",
    "- More question on if-elif-else"
   ]
  },
  {
   "cell_type": "markdown",
   "id": "a9ade168",
   "metadata": {},
   "source": [
    "Q. Write a program without using switch case to input a number between 1 to 7 and display the day corresponding to the number."
   ]
  },
  {
   "cell_type": "code",
   "execution_count": 1,
   "id": "7df548b2",
   "metadata": {},
   "outputs": [
    {
     "name": "stdout",
     "output_type": "stream",
     "text": [
      "Tuesday\n"
     ]
    }
   ],
   "source": [
    "n=int(input(\"Enter the number\"))\n",
    "if n==1:\n",
    "    print(\"Sunday\")\n",
    "elif n==2:\n",
    "    print(\"Monday\")\n",
    "elif n==3:\n",
    "    print(\"Tuesday\")\n",
    "elif n==4:\n",
    "    print(\"Wednesday\")\n",
    "elif n==5:\n",
    "    print(\"Thursday\")\n",
    "elif n==6:\n",
    "    print(\"Friday\")\n",
    "elif n==7:\n",
    "    print(\"Saturday\")\n",
    "else:\n",
    "    print(\"Invalid input\")"
   ]
  },
  {
   "cell_type": "markdown",
   "id": "a118f561",
   "metadata": {},
   "source": [
    "Q. Write a program without using switch case to input a number between 1 to 12 and display the month corresponding to the number."
   ]
  },
  {
   "cell_type": "code",
   "execution_count": 2,
   "id": "5a8b7b21",
   "metadata": {},
   "outputs": [
    {
     "name": "stdout",
     "output_type": "stream",
     "text": [
      "June\n"
     ]
    }
   ],
   "source": [
    "n=int(input(\"Enter the number\"))\n",
    "if n==1:\n",
    "    print(\"January\")\n",
    "elif n==2:\n",
    "    print(\"February\")\n",
    "elif n==3:\n",
    "    print(\"March\")\n",
    "elif n==4:\n",
    "    print(\"April\")\n",
    "elif n==5:\n",
    "    print(\"May\")\n",
    "elif n==6:\n",
    "    print(\"June\")\n",
    "elif n==7:\n",
    "    print(\"July\")\n",
    "elif n==8:\n",
    "    print(\"August\")\n",
    "elif n==9:\n",
    "    print(\"September\")\n",
    "elif n==10:\n",
    "    print(\"October\")\n",
    "elif n==11:\n",
    "    print(\"November\")\n",
    "elif n==12:\n",
    "    print(\"December\")\n",
    "else:\n",
    "    print(\"Invalid input\")"
   ]
  }
 ],
 "metadata": {
  "kernelspec": {
   "display_name": "base",
   "language": "python",
   "name": "python3"
  },
  "language_info": {
   "codemirror_mode": {
    "name": "ipython",
    "version": 3
   },
   "file_extension": ".py",
   "mimetype": "text/x-python",
   "name": "python",
   "nbconvert_exporter": "python",
   "pygments_lexer": "ipython3",
   "version": "3.12.4"
  }
 },
 "nbformat": 4,
 "nbformat_minor": 5
}
