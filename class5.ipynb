{
 "cells": [
  {
   "cell_type": "markdown",
   "id": "4e1121a4",
   "metadata": {},
   "source": [
    "Class 5\n",
    "- Question practice on if-else, elif\n"
   ]
  },
  {
   "cell_type": "markdown",
   "id": "27171765",
   "metadata": {},
   "source": [
    "Q. Write a program to check whether a given no. is positive, negative or 0."
   ]
  },
  {
   "cell_type": "code",
   "execution_count": 1,
   "id": "4839b64f",
   "metadata": {},
   "outputs": [
    {
     "name": "stdout",
     "output_type": "stream",
     "text": [
      "7 is positive\n"
     ]
    }
   ],
   "source": [
    "n = int(input(\"Enter the number \"))\n",
    "if n>0:\n",
    "    print(n, \"is positive\")\n",
    "elif n<0:\n",
    "    print(n, \"is negative\")\n",
    "else:\n",
    "    print(\"The number is 0\")"
   ]
  },
  {
   "cell_type": "markdown",
   "id": "65ccc6d5",
   "metadata": {},
   "source": [
    "Q. Write a program to check whether a character entered be the user is a vowel or not."
   ]
  },
  {
   "cell_type": "code",
   "execution_count": 2,
   "id": "0ee17eaf",
   "metadata": {},
   "outputs": [
    {
     "name": "stdout",
     "output_type": "stream",
     "text": [
      "Character is a vowel\n"
     ]
    }
   ],
   "source": [
    "c = input(\"Enter the character \")\n",
    "if c in \"aeiouAEIOU\":\n",
    "    print(\"Character is a vowel\")\n",
    "else:\n",
    "    print(\"Character is not a vowel\")"
   ]
  },
  {
   "cell_type": "markdown",
   "id": "57e357db",
   "metadata": {},
   "source": [
    "Q. Write a program to check whether a year is a leap year or not."
   ]
  },
  {
   "cell_type": "code",
   "execution_count": 3,
   "id": "5cca9263",
   "metadata": {},
   "outputs": [
    {
     "name": "stdout",
     "output_type": "stream",
     "text": [
      "It is a leap year\n"
     ]
    }
   ],
   "source": [
    "y = int(input(\"Enter the year \"))\n",
    "if (y%4 == 0 and y%100 != 0) or y%400 == 0:\n",
    "    print(\"It is a leap year\")\n",
    "else:\n",
    "    print(\"It is a non-leap year\")"
   ]
  },
  {
   "cell_type": "markdown",
   "id": "8fa06c67",
   "metadata": {},
   "source": [
    "Q. Write a program to input 3 numbers from the user and find the greatest among them."
   ]
  },
  {
   "cell_type": "code",
   "execution_count": 5,
   "id": "dcdfe73c",
   "metadata": {},
   "outputs": [
    {
     "name": "stdout",
     "output_type": "stream",
     "text": [
      "5 is greatest\n"
     ]
    }
   ],
   "source": [
    "a = int(input(\"Enter the 1st number \"))\n",
    "b = int(input(\"Enter the 2nd number \"))\n",
    "c = int(input(\"Enter the 3rd number \"))\n",
    "if a==b and a==c:\n",
    "    print(\"The numbers are equal\")\n",
    "elif a>=b and a>=c:\n",
    "    print(a, \"is greatest\")\n",
    "elif b>=a and b>=c:\n",
    "    print(b, \"is greatest\")\n",
    "else:\n",
    "    print(c, \"is greatest\")"
   ]
  },
  {
   "cell_type": "markdown",
   "id": "31ff75a3",
   "metadata": {},
   "source": [
    "Q. Write a program to check whether a given number is within a range of 10 and 50 or not."
   ]
  },
  {
   "cell_type": "code",
   "execution_count": 6,
   "id": "16a4a2d5",
   "metadata": {},
   "outputs": [
    {
     "name": "stdout",
     "output_type": "stream",
     "text": [
      "The number is within range\n"
     ]
    }
   ],
   "source": [
    "n = int(input(\"Enter the number \"))\n",
    "if n>=10 and n<=50:\n",
    "    print(\"The number is within range\")\n",
    "else:\n",
    "    print(\"The number is not withing range\")"
   ]
  }
 ],
 "metadata": {
  "kernelspec": {
   "display_name": "base",
   "language": "python",
   "name": "python3"
  },
  "language_info": {
   "codemirror_mode": {
    "name": "ipython",
    "version": 3
   },
   "file_extension": ".py",
   "mimetype": "text/x-python",
   "name": "python",
   "nbconvert_exporter": "python",
   "pygments_lexer": "ipython3",
   "version": "3.12.4"
  }
 },
 "nbformat": 4,
 "nbformat_minor": 5
}
