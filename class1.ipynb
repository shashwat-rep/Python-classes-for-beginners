{
 "cells": [
  {
   "cell_type": "markdown",
   "id": "baee470b",
   "metadata": {},
   "source": [
    "Class 1 \n",
    "\n",
    "- What is Python, print(), intro to variables\n",
    "- input(), type(), strings, ints, floats\n"
   ]
  },
  {
   "cell_type": "code",
   "execution_count": 3,
   "id": "500b66a1",
   "metadata": {},
   "outputs": [
    {
     "name": "stdout",
     "output_type": "stream",
     "text": [
      "Hello World\n"
     ]
    }
   ],
   "source": [
    "print(\"Hello World\")"
   ]
  },
  {
   "cell_type": "markdown",
   "id": "17132af2",
   "metadata": {},
   "source": [
    "This is the first program every programmer writes. The computer will show whatever is inside the quotes.\n"
   ]
  },
  {
   "cell_type": "markdown",
   "id": "eb72a9ec",
   "metadata": {},
   "source": [
    "Q. Write a program to write your name."
   ]
  },
  {
   "cell_type": "markdown",
   "id": "7939f201",
   "metadata": {},
   "source": [
    "Variables are like containers or boxes. They store things like numbers, names, etc."
   ]
  },
  {
   "cell_type": "code",
   "execution_count": null,
   "id": "5a39b050",
   "metadata": {},
   "outputs": [],
   "source": [
    "name = \"Raj\" #string\n",
    "age = 14 #integer\n",
    "height = 5.4 #float"
   ]
  },
  {
   "cell_type": "code",
   "execution_count": 4,
   "id": "59ab5ed0",
   "metadata": {},
   "outputs": [
    {
     "name": "stdout",
     "output_type": "stream",
     "text": [
      "My name is Ram\n"
     ]
    }
   ],
   "source": [
    "name = \"Ram\"\n",
    "print(\"My name is\", name)"
   ]
  },
  {
   "cell_type": "code",
   "execution_count": 5,
   "id": "be6052b8",
   "metadata": {},
   "outputs": [
    {
     "name": "stdout",
     "output_type": "stream",
     "text": [
      "I am 14 years old.\n"
     ]
    }
   ],
   "source": [
    "age = 14\n",
    "print(\"I am\", age, \"years old.\")"
   ]
  },
  {
   "cell_type": "code",
   "execution_count": 6,
   "id": "05ae42af",
   "metadata": {},
   "outputs": [
    {
     "name": "stdout",
     "output_type": "stream",
     "text": [
      "Hi, my name is Riya\n",
      "I study at Gujrada Inter college\n",
      "My favourite subject is Math\n"
     ]
    }
   ],
   "source": [
    "name = \"Riya\"\n",
    "school = \"Gujrada Inter college\"\n",
    "favourite_subject = \"Math\"\n",
    "\n",
    "print(\"Hi, my name is\", name)\n",
    "print(\"I study at\", school)\n",
    "print(\"My favourite subject is\", favourite_subject)\n"
   ]
  },
  {
   "cell_type": "markdown",
   "id": "ef07202a",
   "metadata": {},
   "source": [
    "Q. Write a program to display your name, age and class"
   ]
  },
  {
   "cell_type": "markdown",
   "id": "0229031d",
   "metadata": {},
   "source": [
    "Use type() to check variable types"
   ]
  },
  {
   "cell_type": "code",
   "execution_count": 7,
   "id": "d0435752",
   "metadata": {},
   "outputs": [
    {
     "name": "stdout",
     "output_type": "stream",
     "text": [
      "<class 'str'>\n"
     ]
    }
   ],
   "source": [
    "name = \"Ram\"\n",
    "print(type(name))"
   ]
  },
  {
   "cell_type": "code",
   "execution_count": 8,
   "id": "0466ece8",
   "metadata": {},
   "outputs": [
    {
     "name": "stdout",
     "output_type": "stream",
     "text": [
      "<class 'int'>\n"
     ]
    }
   ],
   "source": [
    "age = 17\n",
    "print(type(age))"
   ]
  },
  {
   "cell_type": "code",
   "execution_count": 9,
   "id": "ca227cfa",
   "metadata": {},
   "outputs": [
    {
     "name": "stdout",
     "output_type": "stream",
     "text": [
      "<class 'float'>\n"
     ]
    }
   ],
   "source": [
    "pi = 3.14\n",
    "print(type(pi))"
   ]
  },
  {
   "cell_type": "markdown",
   "id": "f8a8e636",
   "metadata": {},
   "source": [
    "input() asks the user to type something"
   ]
  },
  {
   "cell_type": "code",
   "execution_count": 15,
   "id": "1bb98152",
   "metadata": {},
   "outputs": [
    {
     "name": "stdout",
     "output_type": "stream",
     "text": [
      "Nice to meet you Ram\n",
      "Data type is :  <class 'str'>\n"
     ]
    }
   ],
   "source": [
    "name = input(\"What is your name? \")\n",
    "print(\"Nice to meet you\", name)\n",
    "print(\"Data type is : \", type(name))"
   ]
  },
  {
   "cell_type": "code",
   "execution_count": null,
   "id": "e3e61dfb",
   "metadata": {},
   "outputs": [
    {
     "name": "stdout",
     "output_type": "stream",
     "text": [
      "In 5 years, you will be 20\n"
     ]
    }
   ],
   "source": [
    "age = input(\"Enter your age: \")\n",
    "age = int(age)  # converting string to int\n",
    "print(\"In 5 years, you will be\", age + 5)"
   ]
  },
  {
   "cell_type": "code",
   "execution_count": null,
   "id": "ecfa226b",
   "metadata": {},
   "outputs": [
    {
     "name": "stdout",
     "output_type": "stream",
     "text": [
      "Sum is: 7\n"
     ]
    }
   ],
   "source": [
    "a = int(input(\"Enter first number: \"))\n",
    "b = int(input(\"Enter second number: \"))\n",
    "print(\"Sum is:\", a + b)"
   ]
  },
  {
   "cell_type": "markdown",
   "id": "d5b336a2",
   "metadata": {},
   "source": [
    "Q. Write a program to input class and section and display the information and their data type."
   ]
  }
 ],
 "metadata": {
  "kernelspec": {
   "display_name": "base",
   "language": "python",
   "name": "python3"
  },
  "language_info": {
   "codemirror_mode": {
    "name": "ipython",
    "version": 3
   },
   "file_extension": ".py",
   "mimetype": "text/x-python",
   "name": "python",
   "nbconvert_exporter": "python",
   "pygments_lexer": "ipython3",
   "version": "3.12.4"
  }
 },
 "nbformat": 4,
 "nbformat_minor": 5
}
