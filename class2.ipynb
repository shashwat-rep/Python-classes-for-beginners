{
 "cells": [
  {
   "cell_type": "markdown",
   "id": "a94109e7",
   "metadata": {},
   "source": [
    "Class 2\n",
    "\n",
    "- Practice questions based on what was taught in class 1"
   ]
  },
  {
   "cell_type": "markdown",
   "id": "3b35bcd6",
   "metadata": {},
   "source": [
    "Q. Write a program to input your name, age, class, section, and school name. Then, display a proper introduction in a single sentence like:\n",
    "\n",
    "Hi, my name is Raj. I am 14 years old. I study in class 8A at Sunrise School."
   ]
  },
  {
   "cell_type": "code",
   "execution_count": null,
   "id": "162ffb3d",
   "metadata": {},
   "outputs": [
    {
     "name": "stdout",
     "output_type": "stream",
     "text": [
      "Hi, my name is Raj . I am 14  years old . I study in class 8 A  at Sunrise School .\n"
     ]
    }
   ],
   "source": [
    "name = input(\"Enter your name \")\n",
    "age = int(input(\"Enter you age \"))\n",
    "c = int(input(\"Enter you class \"))\n",
    "section = input(\"Enter your section \")\n",
    "school_name = input(\"Enter your school name \")\n",
    "\n",
    "print(\"Hi, my name is\", name, \". I am\", age, \" years old . I study in class\", c ,section, \" at\", school_name, \".\")"
   ]
  },
  {
   "cell_type": "markdown",
   "id": "3bdf2788",
   "metadata": {},
   "source": [
    "Q. Ask the user to input their current age and calculate what their age will be after 10 years.\n",
    "Also, show the data type of the input before and after conversion."
   ]
  },
  {
   "cell_type": "code",
   "execution_count": null,
   "id": "ea2626f6",
   "metadata": {},
   "outputs": [
    {
     "name": "stdout",
     "output_type": "stream",
     "text": [
      "After 10 years, your age will be 24\n"
     ]
    }
   ],
   "source": [
    "age = input(\"Enter your age \")\n",
    "age = int(age)  # converting string to int\n",
    "\n",
    "print(\"After 10 years, your age will be\", age + 10)"
   ]
  },
  {
   "cell_type": "markdown",
   "id": "6f1cd02c",
   "metadata": {},
   "source": [
    "Q. Write a program that asks the user for two numbers and then displays:\n",
    "\n",
    "- Their sum\n",
    "- Their difference\n",
    "- Their product"
   ]
  },
  {
   "cell_type": "code",
   "execution_count": 8,
   "id": "4c24d28d",
   "metadata": {},
   "outputs": [
    {
     "name": "stdout",
     "output_type": "stream",
     "text": [
      "The sum is  7\n",
      "The difference is  -1\n",
      "The product is  12\n"
     ]
    }
   ],
   "source": [
    "n1 = int(input(\"Enter the first number \"))\n",
    "n2 = int(input(\"Enter the second number \"))\n",
    "\n",
    "print(\"The sum is \", n1+n2)\n",
    "print(\"The difference is \", n1-n2)\n",
    "print(\"The product is \", n1*n2)"
   ]
  },
  {
   "cell_type": "markdown",
   "id": "ee5aa9ce",
   "metadata": {},
   "source": [
    "Q. Take input of three subject marks and display the total and average marks.\n",
    "\n",
    "Subject = Maths, IT, Hindi"
   ]
  },
  {
   "cell_type": "code",
   "execution_count": 9,
   "id": "de45d25f",
   "metadata": {},
   "outputs": [
    {
     "name": "stdout",
     "output_type": "stream",
     "text": [
      "Total marks is 199.0\n",
      "Average marks is 66.33333333333333\n"
     ]
    }
   ],
   "source": [
    "maths = float(input(\"Enter the marks of Maths \"))\n",
    "it = float(input(\"Enter the marks of IT \"))\n",
    "hindi = float(input(\"Enter the marks of hindi \"))\n",
    "\n",
    "print(\"Total marks is\", maths+it+hindi)\n",
    "print(\"Average marks is\", (maths+it+hindi)/3)"
   ]
  },
  {
   "cell_type": "markdown",
   "id": "f19c5d1a",
   "metadata": {},
   "source": [
    "Q. Input your height in centimeters, convert it into meters and print the result"
   ]
  },
  {
   "cell_type": "code",
   "execution_count": 10,
   "id": "c7687282",
   "metadata": {},
   "outputs": [
    {
     "name": "stdout",
     "output_type": "stream",
     "text": [
      "Height in metres is 1.57\n"
     ]
    }
   ],
   "source": [
    "height = float(input(\"Enter the height in centimetres \"))\n",
    "\n",
    "print(\"Height in metres is\", height/100)"
   ]
  }
 ],
 "metadata": {
  "kernelspec": {
   "display_name": "base",
   "language": "python",
   "name": "python3"
  },
  "language_info": {
   "codemirror_mode": {
    "name": "ipython",
    "version": 3
   },
   "file_extension": ".py",
   "mimetype": "text/x-python",
   "name": "python",
   "nbconvert_exporter": "python",
   "pygments_lexer": "ipython3",
   "version": "3.12.4"
  }
 },
 "nbformat": 4,
 "nbformat_minor": 5
}
