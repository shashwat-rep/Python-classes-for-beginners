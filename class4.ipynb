{
 "cells": [
  {
   "cell_type": "markdown",
   "id": "fbc5a9d6",
   "metadata": {},
   "source": [
    "Class 4\n",
    "- Arithmetic operators\n",
    "- if-else statement\n"
   ]
  },
  {
   "cell_type": "code",
   "execution_count": 1,
   "id": "882c6479",
   "metadata": {},
   "outputs": [
    {
     "name": "stdout",
     "output_type": "stream",
     "text": [
      "Addition: 13\n",
      "Subtraction: 7\n",
      "Multiplication: 30\n",
      "Division: 3.3333333333333335\n",
      "Floor Division: 3\n",
      "Modulus: 1\n",
      "Exponent: 1000\n"
     ]
    }
   ],
   "source": [
    "a = 10\n",
    "b = 3\n",
    "\n",
    "print(\"Addition:\", a + b)        # 13\n",
    "print(\"Subtraction:\", a - b)     # 7\n",
    "print(\"Multiplication:\", a * b)  # 30\n",
    "print(\"Division:\", a / b)        # 3.333...\n",
    "print(\"Floor Division:\", a // b) # 3 (no decimal)\n",
    "print(\"Modulus:\", a % b)         # 1 (remainder)\n",
    "print(\"Exponent:\", a ** b)       # 1000 (10^3)"
   ]
  },
  {
   "cell_type": "markdown",
   "id": "fe5aed19",
   "metadata": {},
   "source": [
    "Q. Prompt the user to enter his marks and determine whether he is pass or fail."
   ]
  },
  {
   "cell_type": "code",
   "execution_count": 2,
   "id": "75afda10",
   "metadata": {},
   "outputs": [
    {
     "name": "stdout",
     "output_type": "stream",
     "text": [
      "You have passed\n"
     ]
    }
   ],
   "source": [
    "marks = int(input(\"Enter your marks \"))\n",
    "\n",
    "if marks >= 33:\n",
    "    print(\"You have passed\")\n",
    "else:\n",
    "    print(\"You have failed\")"
   ]
  },
  {
   "cell_type": "markdown",
   "id": "5fab0fdf",
   "metadata": {},
   "source": [
    "Q. Write a program to check whether a user is a valid voter or not."
   ]
  },
  {
   "cell_type": "code",
   "execution_count": 3,
   "id": "2cce68a0",
   "metadata": {},
   "outputs": [
    {
     "name": "stdout",
     "output_type": "stream",
     "text": [
      "Valid voter\n"
     ]
    }
   ],
   "source": [
    "age = int(input(\"Enter your age \"))\n",
    "\n",
    "if age < 18:\n",
    "    print(\"Invalid voter\")\n",
    "else:\n",
    "    print(\"Valid voter\")"
   ]
  },
  {
   "cell_type": "markdown",
   "id": "16e966ff",
   "metadata": {},
   "source": [
    "Q. Write a program to determine whether a given no. is odd or even"
   ]
  },
  {
   "cell_type": "code",
   "execution_count": 6,
   "id": "8f3d9e5a",
   "metadata": {},
   "outputs": [
    {
     "name": "stdout",
     "output_type": "stream",
     "text": [
      "The number is odd\n"
     ]
    }
   ],
   "source": [
    "num = int(input(\"Enter the number \"))\n",
    "\n",
    "if num % 2 == 0:\n",
    "    print(\"The number is even\")\n",
    "else:\n",
    "    print(\"The number is odd\")"
   ]
  }
 ],
 "metadata": {
  "kernelspec": {
   "display_name": "base",
   "language": "python",
   "name": "python3"
  },
  "language_info": {
   "codemirror_mode": {
    "name": "ipython",
    "version": 3
   },
   "file_extension": ".py",
   "mimetype": "text/x-python",
   "name": "python",
   "nbconvert_exporter": "python",
   "pygments_lexer": "ipython3",
   "version": "3.12.4"
  }
 },
 "nbformat": 4,
 "nbformat_minor": 5
}
